{
 "cells": [
  {
   "cell_type": "code",
   "execution_count": 2,
   "id": "e2425f4f",
   "metadata": {},
   "outputs": [],
   "source": [
    "from gtts import gTTS\n",
    "import vlc\n",
    "import os\n",
    "import threading\n",
    "\n",
    "def speech_text(text, path):\n",
    "    tts = gTTS(text=text, lang='vi', slow=False)\n",
    "    tts.save(path)\n",
    "    player = vlc.MediaPlayer(path)\n",
    "    player.play()\n",
    "\n",
    "def play_sound(path):\n",
    "    player = vlc.MediaPlayer(path)\n",
    "    player.play()"
   ]
  },
  {
   "cell_type": "code",
   "execution_count": 5,
   "id": "a80845c3",
   "metadata": {},
   "outputs": [],
   "source": [
    "speech_text(\"Lỗi! mất kết nối đến loadcell 2!\",\"loadcell_2_connection_error.mp3\")"
   ]
  }
 ],
 "metadata": {
  "kernelspec": {
   "display_name": "Python 3",
   "language": "python",
   "name": "python3"
  },
  "language_info": {
   "codemirror_mode": {
    "name": "ipython",
    "version": 3
   },
   "file_extension": ".py",
   "mimetype": "text/x-python",
   "name": "python",
   "nbconvert_exporter": "python",
   "pygments_lexer": "ipython3",
   "version": "3.10.0"
  }
 },
 "nbformat": 4,
 "nbformat_minor": 5
}
